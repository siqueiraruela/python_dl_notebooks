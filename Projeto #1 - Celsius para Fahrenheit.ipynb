{
 "cells": [
  {
   "cell_type": "markdown",
   "source": [
    "# Definição do problema\n"
   ],
   "metadata": {
    "id": "M27qF7CTrBqc"
   }
  },
  {
   "cell_type": "markdown",
   "source": [
    "\n",
    "- Equação para conversão: **T(°F) = T(°C) × 9/5 + 32**"
   ],
   "metadata": {
    "id": "iCj2rwwHBB1I"
   }
  },
  {
   "cell_type": "markdown",
   "source": [
    "# Etapa 1: Importação das bibliotecas"
   ],
   "metadata": {
    "id": "zKmFmyaGunc7"
   }
  },
  {
   "cell_type": "code",
   "execution_count": null,
   "source": [
    "#tensorflow_version 2.x\r\n",
    "import tensorflow as tf\r\n",
    "tf.__version__"
   ],
   "outputs": [],
   "metadata": {
    "colab": {
     "base_uri": "https://localhost:8080/"
    },
    "executionInfo": {
     "elapsed": 4022,
     "status": "ok",
     "timestamp": 1624728142103,
     "user": {
      "displayName": "André S. Ruela",
      "photoUrl": "https://lh3.googleusercontent.com/a-/AOh14GgWyjuVkc4Hzj54JvMw3iQ2ZTL7SjJNors5vbbt=s64",
      "userId": "14352510990553217789"
     },
     "user_tz": 180
    },
    "id": "xN2OHTJDKpSV",
    "outputId": "666a9140-8e62-4e9b-f419-48b59425c43e"
   }
  },
  {
   "cell_type": "code",
   "execution_count": null,
   "source": [
    "import pandas as pd\r\n",
    "import numpy as np\r\n",
    "import seaborn as sns\r\n",
    "import matplotlib.pyplot as plt"
   ],
   "outputs": [],
   "metadata": {
    "executionInfo": {
     "elapsed": 1260,
     "status": "ok",
     "timestamp": 1624728145150,
     "user": {
      "displayName": "André S. Ruela",
      "photoUrl": "https://lh3.googleusercontent.com/a-/AOh14GgWyjuVkc4Hzj54JvMw3iQ2ZTL7SjJNors5vbbt=s64",
      "userId": "14352510990553217789"
     },
     "user_tz": 180
    },
    "id": "tUVlXNPXK7ZJ"
   }
  },
  {
   "cell_type": "markdown",
   "source": [
    "# Etapa 2: Importação da base de dados"
   ],
   "metadata": {
    "id": "uAE6Icc0uylP"
   }
  },
  {
   "cell_type": "code",
   "execution_count": null,
   "source": [
    "temperature_df = pd.read_csv('./content/Celsius-to-Fahrenheit.csv')\r\n",
    "temperature_df.reset_index(drop = True, inplace = True)"
   ],
   "outputs": [],
   "metadata": {
    "colab": {
     "base_uri": "https://localhost:8080/",
     "height": 1000
    },
    "executionInfo": {
     "elapsed": 968,
     "status": "error",
     "timestamp": 1624728153052,
     "user": {
      "displayName": "André S. Ruela",
      "photoUrl": "https://lh3.googleusercontent.com/a-/AOh14GgWyjuVkc4Hzj54JvMw3iQ2ZTL7SjJNors5vbbt=s64",
      "userId": "14352510990553217789"
     },
     "user_tz": 180
    },
    "id": "Vh1ytDaOLKRe",
    "outputId": "97c481c3-0d39-47f4-b5d5-9b771b24bf04"
   }
  },
  {
   "cell_type": "code",
   "execution_count": null,
   "source": [
    "temperature_df"
   ],
   "outputs": [],
   "metadata": {
    "colab": {
     "base_uri": "https://localhost:8080/",
     "height": 990
    },
    "executionInfo": {
     "elapsed": 259,
     "status": "ok",
     "timestamp": 1624727354672,
     "user": {
      "displayName": "André S. Ruela",
      "photoUrl": "https://lh3.googleusercontent.com/a-/AOh14GgWyjuVkc4Hzj54JvMw3iQ2ZTL7SjJNors5vbbt=s64",
      "userId": "14352510990553217789"
     },
     "user_tz": 180
    },
    "id": "O5UvWWVrLkN1",
    "outputId": "a490c1b5-5ba7-48d0-e788-a1486deba576"
   }
  },
  {
   "cell_type": "code",
   "execution_count": null,
   "source": [
    "temperature_df.head()"
   ],
   "outputs": [],
   "metadata": {
    "colab": {
     "base_uri": "https://localhost:8080/",
     "height": 206
    },
    "executionInfo": {
     "elapsed": 249,
     "status": "ok",
     "timestamp": 1624727371895,
     "user": {
      "displayName": "André S. Ruela",
      "photoUrl": "https://lh3.googleusercontent.com/a-/AOh14GgWyjuVkc4Hzj54JvMw3iQ2ZTL7SjJNors5vbbt=s64",
      "userId": "14352510990553217789"
     },
     "user_tz": 180
    },
    "id": "XtB0bm20L1bZ",
    "outputId": "acdc553f-647d-4962-b88b-c57f3d4cc49d"
   }
  },
  {
   "cell_type": "code",
   "execution_count": null,
   "source": [
    "temperature_df.tail(10)"
   ],
   "outputs": [],
   "metadata": {
    "colab": {
     "base_uri": "https://localhost:8080/",
     "height": 363
    },
    "executionInfo": {
     "elapsed": 241,
     "status": "ok",
     "timestamp": 1624727376296,
     "user": {
      "displayName": "André S. Ruela",
      "photoUrl": "https://lh3.googleusercontent.com/a-/AOh14GgWyjuVkc4Hzj54JvMw3iQ2ZTL7SjJNors5vbbt=s64",
      "userId": "14352510990553217789"
     },
     "user_tz": 180
    },
    "id": "rxlu7nd3L5kl",
    "outputId": "7da33952-db84-4b1a-d254-2c170f13d550"
   }
  },
  {
   "cell_type": "code",
   "execution_count": null,
   "source": [
    "temperature_df.info()"
   ],
   "outputs": [],
   "metadata": {
    "colab": {
     "base_uri": "https://localhost:8080/"
    },
    "executionInfo": {
     "elapsed": 240,
     "status": "ok",
     "timestamp": 1624727385613,
     "user": {
      "displayName": "André S. Ruela",
      "photoUrl": "https://lh3.googleusercontent.com/a-/AOh14GgWyjuVkc4Hzj54JvMw3iQ2ZTL7SjJNors5vbbt=s64",
      "userId": "14352510990553217789"
     },
     "user_tz": 180
    },
    "id": "Ycrr6QZkL-Cp",
    "outputId": "79ee8847-2044-41ae-e561-94a37af933d4"
   }
  },
  {
   "cell_type": "code",
   "execution_count": null,
   "source": [
    "temperature_df.describe()"
   ],
   "outputs": [],
   "metadata": {
    "colab": {
     "base_uri": "https://localhost:8080/",
     "height": 300
    },
    "executionInfo": {
     "elapsed": 243,
     "status": "ok",
     "timestamp": 1624727408611,
     "user": {
      "displayName": "André S. Ruela",
      "photoUrl": "https://lh3.googleusercontent.com/a-/AOh14GgWyjuVkc4Hzj54JvMw3iQ2ZTL7SjJNors5vbbt=s64",
      "userId": "14352510990553217789"
     },
     "user_tz": 180
    },
    "id": "fXFzlJv4MKIu",
    "outputId": "0192a4a1-c726-4afe-e51c-e4bfb0898b70"
   }
  },
  {
   "cell_type": "markdown",
   "source": [
    "# Etapa 3: Visualização da base de dados"
   ],
   "metadata": {
    "id": "LlszUhNNyrl_"
   }
  },
  {
   "cell_type": "code",
   "execution_count": null,
   "source": [
    "#sns.scatterplot(temperature_df['Celsius'], temperature_df['Fahrenheit']); atualizado 18/01/2021\r\n",
    "sns.scatterplot(x=temperature_df['Celsius'], y=temperature_df['Fahrenheit']);"
   ],
   "outputs": [],
   "metadata": {
    "colab": {
     "base_uri": "https://localhost:8080/",
     "height": 297
    },
    "executionInfo": {
     "elapsed": 268,
     "status": "ok",
     "timestamp": 1624727441680,
     "user": {
      "displayName": "André S. Ruela",
      "photoUrl": "https://lh3.googleusercontent.com/a-/AOh14GgWyjuVkc4Hzj54JvMw3iQ2ZTL7SjJNors5vbbt=s64",
      "userId": "14352510990553217789"
     },
     "user_tz": 180
    },
    "id": "z0AE5NIoMWLa",
    "outputId": "9c9e2120-34f7-4d62-cf5f-4404381c6366"
   }
  },
  {
   "cell_type": "markdown",
   "source": [
    "# Etapa 4: Configuração da base de dados de treinamento"
   ],
   "metadata": {
    "id": "Y0GmpAjG3GiH"
   }
  },
  {
   "cell_type": "code",
   "execution_count": null,
   "source": [
    "X_train = temperature_df['Celsius']\r\n",
    "y_train = temperature_df['Fahrenheit']"
   ],
   "outputs": [],
   "metadata": {
    "executionInfo": {
     "elapsed": 309,
     "status": "ok",
     "timestamp": 1624727488918,
     "user": {
      "displayName": "André S. Ruela",
      "photoUrl": "https://lh3.googleusercontent.com/a-/AOh14GgWyjuVkc4Hzj54JvMw3iQ2ZTL7SjJNors5vbbt=s64",
      "userId": "14352510990553217789"
     },
     "user_tz": 180
    },
    "id": "ufp47UtcNV9r"
   }
  },
  {
   "cell_type": "code",
   "execution_count": null,
   "source": [
    "X_train.shape"
   ],
   "outputs": [],
   "metadata": {
    "colab": {
     "base_uri": "https://localhost:8080/"
    },
    "executionInfo": {
     "elapsed": 246,
     "status": "ok",
     "timestamp": 1624727509805,
     "user": {
      "displayName": "André S. Ruela",
      "photoUrl": "https://lh3.googleusercontent.com/a-/AOh14GgWyjuVkc4Hzj54JvMw3iQ2ZTL7SjJNors5vbbt=s64",
      "userId": "14352510990553217789"
     },
     "user_tz": 180
    },
    "id": "DxYIMLN9Nh5Z",
    "outputId": "6d9c5982-75ca-417c-a1f6-110c99a97db6"
   }
  },
  {
   "cell_type": "code",
   "execution_count": null,
   "source": [
    "y_train.shape"
   ],
   "outputs": [],
   "metadata": {
    "colab": {
     "base_uri": "https://localhost:8080/"
    },
    "executionInfo": {
     "elapsed": 238,
     "status": "ok",
     "timestamp": 1624727521256,
     "user": {
      "displayName": "André S. Ruela",
      "photoUrl": "https://lh3.googleusercontent.com/a-/AOh14GgWyjuVkc4Hzj54JvMw3iQ2ZTL7SjJNors5vbbt=s64",
      "userId": "14352510990553217789"
     },
     "user_tz": 180
    },
    "id": "jaIbWH1bNj8B",
    "outputId": "d6a3a43f-6b52-42c2-96d1-2a01efb52653"
   }
  },
  {
   "cell_type": "markdown",
   "source": [
    "# Etapa 5: Construção e treinamento do modelo"
   ],
   "metadata": {
    "id": "53qDZFRn3-S1"
   }
  },
  {
   "cell_type": "code",
   "execution_count": null,
   "source": [
    "with tf.device('/device:GPU:0'):\r\n",
    "    model = tf.keras.Sequential()\r\n",
    "    model.add(tf.keras.layers.Dense(units = 1, input_shape = [1]))\r\n",
    "    #model.summary()"
   ],
   "outputs": [],
   "metadata": {
    "colab": {
     "base_uri": "https://localhost:8080/"
    },
    "executionInfo": {
     "elapsed": 5106,
     "status": "ok",
     "timestamp": 1624727551074,
     "user": {
      "displayName": "André S. Ruela",
      "photoUrl": "https://lh3.googleusercontent.com/a-/AOh14GgWyjuVkc4Hzj54JvMw3iQ2ZTL7SjJNors5vbbt=s64",
      "userId": "14352510990553217789"
     },
     "user_tz": 180
    },
    "id": "oHHV_XUkNu1z",
    "outputId": "fe2479a0-2f09-49ca-ce96-7c7cb968af0f"
   }
  },
  {
   "cell_type": "code",
   "execution_count": null,
   "source": [
    "    model.compile(optimizer=tf.keras.optimizers.Adam(0.1), loss = 'mean_squared_error')"
   ],
   "outputs": [],
   "metadata": {
    "executionInfo": {
     "elapsed": 240,
     "status": "ok",
     "timestamp": 1624727578903,
     "user": {
      "displayName": "André S. Ruela",
      "photoUrl": "https://lh3.googleusercontent.com/a-/AOh14GgWyjuVkc4Hzj54JvMw3iQ2ZTL7SjJNors5vbbt=s64",
      "userId": "14352510990553217789"
     },
     "user_tz": 180
    },
    "id": "fzSMyRkQOk41"
   }
  },
  {
   "cell_type": "code",
   "execution_count": null,
   "source": [
    "    epochs_hist = model.fit(X_train, y_train, epochs = 1500)"
   ],
   "outputs": [],
   "metadata": {
    "colab": {
     "base_uri": "https://localhost:8080/"
    },
    "executionInfo": {
     "elapsed": 10735,
     "status": "ok",
     "timestamp": 1624727605450,
     "user": {
      "displayName": "André S. Ruela",
      "photoUrl": "https://lh3.googleusercontent.com/a-/AOh14GgWyjuVkc4Hzj54JvMw3iQ2ZTL7SjJNors5vbbt=s64",
      "userId": "14352510990553217789"
     },
     "user_tz": 180
    },
    "id": "-XkNnXLwO7As",
    "outputId": "c7b10f9c-7782-4ded-cace-5fda3a251095"
   }
  },
  {
   "cell_type": "markdown",
   "source": [
    "# Etapa 5: Avaliação do modelo"
   ],
   "metadata": {
    "id": "-wRQqOeB5Zh5"
   }
  },
  {
   "cell_type": "code",
   "execution_count": null,
   "source": [
    "epochs_hist.history.keys()"
   ],
   "outputs": [],
   "metadata": {
    "colab": {
     "base_uri": "https://localhost:8080/"
    },
    "executionInfo": {
     "elapsed": 313,
     "status": "ok",
     "timestamp": 1624727646366,
     "user": {
      "displayName": "André S. Ruela",
      "photoUrl": "https://lh3.googleusercontent.com/a-/AOh14GgWyjuVkc4Hzj54JvMw3iQ2ZTL7SjJNors5vbbt=s64",
      "userId": "14352510990553217789"
     },
     "user_tz": 180
    },
    "id": "ZWzZwK-QQJTe",
    "outputId": "fe940da5-4be6-4208-be4b-96cbb67211a8"
   }
  },
  {
   "cell_type": "code",
   "execution_count": null,
   "source": [
    "plt.plot(epochs_hist.history['loss'])\r\n",
    "plt.title('Model Loss Progress During Training')\r\n",
    "plt.xlabel('Epoch')\r\n",
    "plt.ylabel('Training loss')\r\n",
    "plt.legend(['Training loss']);"
   ],
   "outputs": [],
   "metadata": {
    "colab": {
     "base_uri": "https://localhost:8080/",
     "height": 295
    },
    "executionInfo": {
     "elapsed": 289,
     "status": "ok",
     "timestamp": 1624727669635,
     "user": {
      "displayName": "André S. Ruela",
      "photoUrl": "https://lh3.googleusercontent.com/a-/AOh14GgWyjuVkc4Hzj54JvMw3iQ2ZTL7SjJNors5vbbt=s64",
      "userId": "14352510990553217789"
     },
     "user_tz": 180
    },
    "id": "dROEBreWQS1e",
    "outputId": "a55989cd-7c3f-4916-e581-ed8f6be70e26"
   }
  },
  {
   "cell_type": "code",
   "execution_count": null,
   "source": [
    "model.get_weights()"
   ],
   "outputs": [],
   "metadata": {
    "colab": {
     "base_uri": "https://localhost:8080/"
    },
    "executionInfo": {
     "elapsed": 252,
     "status": "ok",
     "timestamp": 1624727732339,
     "user": {
      "displayName": "André S. Ruela",
      "photoUrl": "https://lh3.googleusercontent.com/a-/AOh14GgWyjuVkc4Hzj54JvMw3iQ2ZTL7SjJNors5vbbt=s64",
      "userId": "14352510990553217789"
     },
     "user_tz": 180
    },
    "id": "Nh1rtlAiQ1II",
    "outputId": "c5c08d1c-45b7-4fa6-9471-ca7e7981e50b"
   }
  },
  {
   "cell_type": "code",
   "execution_count": null,
   "source": [
    "temp_c = 10\r\n",
    "temp_f = model.predict([temp_c])\r\n",
    "temp_f"
   ],
   "outputs": [],
   "metadata": {
    "colab": {
     "base_uri": "https://localhost:8080/"
    },
    "executionInfo": {
     "elapsed": 241,
     "status": "ok",
     "timestamp": 1624727756466,
     "user": {
      "displayName": "André S. Ruela",
      "photoUrl": "https://lh3.googleusercontent.com/a-/AOh14GgWyjuVkc4Hzj54JvMw3iQ2ZTL7SjJNors5vbbt=s64",
      "userId": "14352510990553217789"
     },
     "user_tz": 180
    },
    "id": "OLLe2lIyRQoE",
    "outputId": "c8e6bda4-1db8-43f6-8527-b29566de860f"
   }
  },
  {
   "cell_type": "code",
   "execution_count": null,
   "source": [
    "temp_f1 = 9/5 * temp_c + 32\r\n",
    "temp_f1"
   ],
   "outputs": [],
   "metadata": {
    "colab": {
     "base_uri": "https://localhost:8080/"
    },
    "executionInfo": {
     "elapsed": 250,
     "status": "ok",
     "timestamp": 1624727764293,
     "user": {
      "displayName": "André S. Ruela",
      "photoUrl": "https://lh3.googleusercontent.com/a-/AOh14GgWyjuVkc4Hzj54JvMw3iQ2ZTL7SjJNors5vbbt=s64",
      "userId": "14352510990553217789"
     },
     "user_tz": 180
    },
    "id": "lY-oY_FrRdPw",
    "outputId": "cb63f813-af91-482c-e082-c1251047601f"
   }
  }
 ],
 "metadata": {
  "accelerator": "GPU",
  "colab": {
   "collapsed_sections": [],
   "name": "Projeto #1: Celsius para Fahrenheit.ipynb",
   "provenance": [
    {
     "file_id": "1lMeSUvSnBZhAtOPpBpc-lJhDmBQU2HzC",
     "timestamp": 1624724969487
    },
    {
     "file_id": "1CHDPbceE-LisXLhoOw64axVK4cv8Dfko",
     "timestamp": 1579100847051
    },
    {
     "file_id": "1eiMl_DeuwX9kc05_YXfBMEf6elXCk5g_",
     "timestamp": 1565712881168
    }
   ]
  },
  "kernelspec": {
   "display_name": "Python 3",
   "language": "python",
   "name": "python3"
  }
 },
 "nbformat": 4,
 "nbformat_minor": 1
}