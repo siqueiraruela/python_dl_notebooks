{
  "cells": [
    {
      "cell_type": "markdown",
      "source": [
        "# Projeto 8: Classificação de sinais de trânsito"
      ],
      "metadata": {
        "id": "M27qF7CTrBqc"
      }
    },
    {
      "cell_type": "markdown",
      "source": [
        "Arquitetura LeNet: http://yann.lecun.com/exdb/publis/pdf/lecun-01a.pdf"
      ],
      "metadata": {
        "id": "1kcs3Dv5pDd3"
      }
    },
    {
      "cell_type": "markdown",
      "source": [
        "# Etapa 1: Importação das bibliotecas"
      ],
      "metadata": {
        "id": "zKmFmyaGunc7"
      }
    },
    {
      "cell_type": "code",
      "execution_count": 1,
      "source": [
        "#%tensorflow_version 2.x\r\n",
        "import matplotlib.pyplot as plt\r\n",
        "import numpy as np\r\n",
        "import os\r\n",
        "import PIL\r\n",
        "from tensorflow.keras import layers\r\n",
        "import tensorflow as tf\r\n",
        "import pandas as pd\r\n",
        "import seaborn as sns\r\n",
        "import pickle\r\n",
        "import zipfile\r\n",
        "tf.__version__"
      ],
      "outputs": [
        {
          "output_type": "execute_result",
          "data": {
            "text/plain": [
              "'2.7.0-dev20210724'"
            ]
          },
          "metadata": {},
          "execution_count": 1
        }
      ],
      "metadata": {
        "colab": {
          "base_uri": "https://localhost:8080/",
          "height": 52
        },
        "id": "S0Cx3743urFY",
        "outputId": "79360af5-dad5-4616-fa1b-570da253bed6"
      }
    },
    {
      "cell_type": "markdown",
      "source": [
        "# Etapa 2: Importação da base de dados"
      ],
      "metadata": {
        "id": "uAE6Icc0uylP"
      }
    },
    {
      "cell_type": "code",
      "execution_count": 2,
      "source": [
        "#from google.colab import drive\r\n",
        "#drive.mount('/content/drive')"
      ],
      "outputs": [],
      "metadata": {
        "colab": {
          "base_uri": "https://localhost:8080/",
          "height": 124
        },
        "id": "8otW3xDkUZOh",
        "outputId": "39bae309-c1de-4540-97f2-9ab3785282f7"
      }
    },
    {
      "cell_type": "code",
      "execution_count": 3,
      "source": [
        "path = './content/traffic-signs-data.zip'\r\n",
        "zip_object = zipfile.ZipFile(file=path, mode='r')\r\n",
        "zip_object.extractall('./content/')\r\n",
        "zip_object.close()"
      ],
      "outputs": [],
      "metadata": {
        "id": "A4XVTOE6UnXd"
      }
    },
    {
      "cell_type": "code",
      "execution_count": 4,
      "source": [
        "with open('./content/traffic-signs-data/train.p', mode='rb') as training_data:\r\n",
        "  train = pickle.load(training_data)\r\n",
        "with open('./content/traffic-signs-data/test.p', mode='rb') as testing_data:\r\n",
        "  test = pickle.load(testing_data)\r\n",
        "with open('./content/traffic-signs-data/valid.p', mode='rb') as validation_data:\r\n",
        "  valid = pickle.load(validation_data)"
      ],
      "outputs": [],
      "metadata": {
        "id": "1y1Abbx5U8yQ"
      }
    },
    {
      "cell_type": "code",
      "execution_count": null,
      "source": [
        "train"
      ],
      "outputs": [],
      "metadata": {
        "colab": {
          "base_uri": "https://localhost:8080/",
          "height": 1000
        },
        "id": "C7f0b0TmVdIx",
        "outputId": "681ce209-dc86-40e7-bbf2-36a895d3a423"
      }
    },
    {
      "cell_type": "code",
      "execution_count": null,
      "source": [
        "X_train, y_train = train['features'], train['labels']\n",
        "X_test, y_test = test['features'], test['labels']\n",
        "X_validation, y_validation = valid['features'], valid['labels']"
      ],
      "outputs": [],
      "metadata": {
        "id": "_rmFspuYVmoA"
      }
    },
    {
      "cell_type": "code",
      "execution_count": null,
      "source": [
        "X_train.shape"
      ],
      "outputs": [],
      "metadata": {
        "colab": {
          "base_uri": "https://localhost:8080/",
          "height": 35
        },
        "id": "wr0X16Z8V8MI",
        "outputId": "7325c8a9-4869-4204-beed-dd49e0a4e42f"
      }
    },
    {
      "cell_type": "code",
      "execution_count": null,
      "source": [
        "y_train.shape"
      ],
      "outputs": [],
      "metadata": {
        "colab": {
          "base_uri": "https://localhost:8080/",
          "height": 35
        },
        "id": "Ba0t0A9tWCCq",
        "outputId": "c523bbb9-c615-4db3-e9e1-e25c9c9d4d09"
      }
    },
    {
      "cell_type": "code",
      "execution_count": null,
      "source": [
        "X_test.shape"
      ],
      "outputs": [],
      "metadata": {
        "colab": {
          "base_uri": "https://localhost:8080/",
          "height": 35
        },
        "id": "7nnN4x1zWF-t",
        "outputId": "0a7d74df-cd4f-4f91-c87f-f2c6f0200ab9"
      }
    },
    {
      "cell_type": "code",
      "execution_count": null,
      "source": [
        "X_validation.shape"
      ],
      "outputs": [],
      "metadata": {
        "colab": {
          "base_uri": "https://localhost:8080/",
          "height": 35
        },
        "id": "45occxmHWJFT",
        "outputId": "3125b92f-6933-4145-d192-87672b38bfb4"
      }
    },
    {
      "cell_type": "markdown",
      "source": [
        "# Etapa 3: Visualização dos dados"
      ],
      "metadata": {
        "id": "LlszUhNNyrl_"
      }
    },
    {
      "cell_type": "code",
      "execution_count": null,
      "source": [
        "i = 3100\n",
        "plt.imshow(X_train[i])\n",
        "y_train[i]"
      ],
      "outputs": [],
      "metadata": {
        "colab": {
          "base_uri": "https://localhost:8080/",
          "height": 284
        },
        "id": "2m3ZwRR5WQSm",
        "outputId": "685a1e54-391a-490a-c0bd-ca332859d0ef"
      }
    },
    {
      "cell_type": "code",
      "execution_count": null,
      "source": [
        "i = 3001\n",
        "plt.imshow(X_test[i])\n",
        "y_test[i]"
      ],
      "outputs": [],
      "metadata": {
        "colab": {
          "base_uri": "https://localhost:8080/",
          "height": 284
        },
        "id": "6SsSPX6CWYWV",
        "outputId": "1719b852-18b3-4f5f-a6b9-42203d30b7da"
      }
    },
    {
      "cell_type": "code",
      "execution_count": null,
      "source": [
        "i = 2100\n",
        "plt.imshow(X_validation[i])\n",
        "y_validation[i]"
      ],
      "outputs": [],
      "metadata": {
        "colab": {
          "base_uri": "https://localhost:8080/",
          "height": 284
        },
        "id": "8reu_qWvWo7Y",
        "outputId": "2d0637ca-7485-4fba-e346-8597d3b66eda"
      }
    },
    {
      "cell_type": "markdown",
      "source": [
        "# Etapa 4: Preparação dos dados"
      ],
      "metadata": {
        "id": "Y0GmpAjG3GiH"
      }
    },
    {
      "cell_type": "code",
      "execution_count": null,
      "source": [
        "from sklearn.utils import shuffle\n",
        "X_train, y_train = shuffle(X_train, y_train)"
      ],
      "outputs": [],
      "metadata": {
        "id": "no0l8ASHXf4b"
      }
    },
    {
      "cell_type": "code",
      "execution_count": null,
      "source": [
        "X_train_gray = np.sum(X_train / 3, axis = 3, keepdims=True)\n",
        "X_test_gray = np.sum(X_test / 3, axis = 3, keepdims=True)\n",
        "X_validation_gray = np.sum(X_validation / 3, axis = 3, keepdims=True)"
      ],
      "outputs": [],
      "metadata": {
        "id": "YcOUKVs3X4Cm"
      }
    },
    {
      "cell_type": "code",
      "execution_count": null,
      "source": [
        "X_train_gray.shape"
      ],
      "outputs": [],
      "metadata": {
        "colab": {
          "base_uri": "https://localhost:8080/",
          "height": 35
        },
        "id": "G7PcCa8kY8Ax",
        "outputId": "97e4ee9d-e74e-40e9-c9f8-58607585dc94"
      }
    },
    {
      "cell_type": "code",
      "execution_count": null,
      "source": [
        "X_test_gray.shape"
      ],
      "outputs": [],
      "metadata": {
        "colab": {
          "base_uri": "https://localhost:8080/",
          "height": 35
        },
        "id": "Ct1YdOz_ZDac",
        "outputId": "329d6ee6-c2d5-4d8f-9a8a-05a4fb9bb164"
      }
    },
    {
      "cell_type": "code",
      "execution_count": null,
      "source": [
        "X_validation_gray.shape"
      ],
      "outputs": [],
      "metadata": {
        "colab": {
          "base_uri": "https://localhost:8080/",
          "height": 35
        },
        "id": "B-q9Q57oZF6n",
        "outputId": "475d07da-ef4d-41c1-f3a6-05fac60a8663"
      }
    },
    {
      "cell_type": "code",
      "execution_count": null,
      "source": [
        "X_train_gray_norm = (X_train_gray - 128) / 128\n",
        "X_test_gray_norm = (X_test_gray - 128) / 128\n",
        "X_validation_gray_norm = (X_validation_gray - 128) / 128"
      ],
      "outputs": [],
      "metadata": {
        "id": "VPfI_xqXZJK_"
      }
    },
    {
      "cell_type": "code",
      "execution_count": null,
      "source": [
        "np.max(X_train_gray_norm)"
      ],
      "outputs": [],
      "metadata": {
        "colab": {
          "base_uri": "https://localhost:8080/",
          "height": 35
        },
        "id": "V5xFI_vNZjTh",
        "outputId": "c512f304-74ce-4354-ed92-9970088ea11a"
      }
    },
    {
      "cell_type": "code",
      "execution_count": null,
      "source": [
        "np.min(X_train_gray_norm)"
      ],
      "outputs": [],
      "metadata": {
        "colab": {
          "base_uri": "https://localhost:8080/",
          "height": 35
        },
        "id": "1Xl2PiLAZqgN",
        "outputId": "81009b2e-0529-4a34-8b6d-a3408bf845e8"
      }
    },
    {
      "cell_type": "code",
      "execution_count": null,
      "source": [
        "i = 60\n",
        "plt.imshow(X_train_gray[i].squeeze(), cmap='gray')\n",
        "plt.figure()\n",
        "plt.imshow(X_train[i])\n",
        "plt.figure()\n",
        "plt.imshow(X_train_gray_norm[i].squeeze(), cmap = 'gray');"
      ],
      "outputs": [],
      "metadata": {
        "colab": {
          "base_uri": "https://localhost:8080/",
          "height": 781
        },
        "id": "6i4omfg3Z82P",
        "outputId": "4b64c13b-7a9a-4448-92ab-deebca7d2f63"
      }
    },
    {
      "cell_type": "code",
      "execution_count": null,
      "source": [
        "i = 610\n",
        "plt.imshow(X_test_gray[i].squeeze(), cmap='gray')\n",
        "plt.figure()\n",
        "plt.imshow(X_test[i])\n",
        "plt.figure()\n",
        "plt.imshow(X_test_gray_norm[i].squeeze(), cmap = 'gray');"
      ],
      "outputs": [],
      "metadata": {
        "colab": {
          "base_uri": "https://localhost:8080/",
          "height": 781
        },
        "id": "oj2MsvOGamfv",
        "outputId": "7252a1df-292f-48ef-efe7-0d07530c62a9"
      }
    },
    {
      "cell_type": "code",
      "execution_count": null,
      "source": [
        "i = 500\n",
        "plt.imshow(X_validation_gray[i].squeeze(), cmap='gray')\n",
        "plt.figure()\n",
        "plt.imshow(X_validation[i])\n",
        "plt.figure()\n",
        "plt.imshow(X_validation_gray_norm[i].squeeze(), cmap = 'gray');"
      ],
      "outputs": [],
      "metadata": {
        "colab": {
          "base_uri": "https://localhost:8080/",
          "height": 781
        },
        "id": "l7fd2kikatDE",
        "outputId": "a1fb93ec-2626-45db-9134-7d30ec342db1"
      }
    },
    {
      "cell_type": "markdown",
      "source": [
        "# Etapa 5: Criação do modelo e treinamento"
      ],
      "metadata": {
        "id": "53qDZFRn3-S1"
      }
    },
    {
      "cell_type": "markdown",
      "source": [
        "- STEP 1: THE FIRST CONVOLUTIONAL LAYER #1\r\n",
        "    - Input = 32x32x1\r\n",
        "    - Output = 28x28x6\r\n",
        "    - Output = (Input-filter+1)/Stride* => (32-5+1)/1=28\r\n",
        "    - Used a 5x5 Filter with input depth of 3 and output depth of 6\r\n",
        "    - Apply a RELU Activation function to the output\r\n",
        "    - pooling for input, Input = 28x28x6 and Output = 14x14x6\r\n",
        "\r\n",
        "- STEP 2: THE SECOND CONVOLUTIONAL LAYER #2\r\n",
        "    - Input = 14x14x6\r\n",
        "    - Output = 10x10x16\r\n",
        "    - Layer 2: Convolutional layer with Output = 10x10x16\r\n",
        "    - Output = (Input-filter+1)/strides => 10 = 14-5+1/1\r\n",
        "    - Apply a RELU Activation function to the output\r\n",
        "    - Pooling with Input = 10x10x16 and Output = 5x5x16\r\n",
        "\r\n",
        "- STEP 3: FLATTENING THE NETWORK\r\n",
        "    - Flatten the network with Input = 5x5x16 and Output = 400\r\n",
        "\r\n",
        "- STEP 4: FULLY CONNECTED LAYER\r\n",
        "    - Layer 3: Fully Connected layer with Input = 400 and Output = 120\r\n",
        "    - Apply a RELU Activation function to the output\r\n",
        "\r\n",
        "- STEP 5: ANOTHER FULLY CONNECTED LAYER\r\n",
        "    - Layer 4: Fully Connected Layer with Input = 120 and Output = 84\r\n",
        "    - Apply a RELU Activation function to the output\r\n",
        "\r\n",
        "- STEP 6: FULLY CONNECTED LAYER\r\n",
        "    - Layer 5: Fully Connected layer with Input = 84 and Output = 43"
      ],
      "metadata": {
        "id": "CfT5LU6Gr1Pi"
      }
    },
    {
      "cell_type": "code",
      "execution_count": null,
      "source": [
        "from tensorflow.keras import layers, models\n",
        "\n",
        "LeNet = models.Sequential()\n",
        "\n",
        "LeNet.add(layers.Conv2D(6, (5,5), activation = 'relu', input_shape = (32, 32, 1)))\n",
        "LeNet.add(layers.AveragePooling2D())\n",
        "\n",
        "LeNet.add(layers.Conv2D(16, (5,5), activation = 'relu'))\n",
        "LeNet.add(layers.AveragePooling2D())\n",
        "\n",
        "LeNet.add(layers.Flatten())\n",
        "\n",
        "LeNet.add(layers.Dense(120, activation='relu'))\n",
        "\n",
        "LeNet.add(layers.Dense(84, activation='relu'))\n",
        "\n",
        "LeNet.add(layers.Dense(43, activation='softmax'))\n",
        "\n",
        "LeNet.summary()"
      ],
      "outputs": [],
      "metadata": {
        "colab": {
          "base_uri": "https://localhost:8080/",
          "height": 432
        },
        "id": "AXikYCFPbVYc",
        "outputId": "11e62c54-800f-444e-af8a-c1c6f76edcc6"
      }
    },
    {
      "cell_type": "code",
      "execution_count": null,
      "source": [
        "LeNet.compile(optimizer='Adam', loss='sparse_categorical_crossentropy', \n",
        "              metrics = ['accuracy'])"
      ],
      "outputs": [],
      "metadata": {
        "id": "-PT5B4F1dhle"
      }
    },
    {
      "cell_type": "code",
      "execution_count": null,
      "source": [
        "history = LeNet.fit(X_train_gray_norm, y_train,\r\n",
        "                    batch_size = 500,\r\n",
        "                    epochs = 50,\r\n",
        "                    validation_data = (X_validation_gray_norm, y_validation))"
      ],
      "outputs": [],
      "metadata": {
        "colab": {
          "base_uri": "https://localhost:8080/",
          "height": 1000
        },
        "id": "zMpJQWW6dsUd",
        "outputId": "9dd54445-7b8f-4aee-9191-b60723c0f6c0"
      }
    },
    {
      "cell_type": "markdown",
      "source": [
        "# Etapa 6: Avaliação do modelo"
      ],
      "metadata": {
        "id": "-wRQqOeB5Zh5"
      }
    },
    {
      "cell_type": "code",
      "execution_count": null,
      "source": [
        "score = LeNet.evaluate(X_test_gray_norm, y_test)\n",
        "print('Test Accuracy: {}'.format(score[1]))"
      ],
      "outputs": [],
      "metadata": {
        "colab": {
          "base_uri": "https://localhost:8080/",
          "height": 52
        },
        "id": "_RpB2PAd9SE9",
        "outputId": "cddd5c09-db73-4ba8-ca71-40ff5fc02f64"
      }
    },
    {
      "cell_type": "code",
      "execution_count": null,
      "source": [
        "history.history.keys()"
      ],
      "outputs": [],
      "metadata": {
        "colab": {
          "base_uri": "https://localhost:8080/",
          "height": 35
        },
        "id": "FM1WY_Q_sMkL",
        "outputId": "8b7e958c-a3ec-43d4-c346-d73208142acb"
      }
    },
    {
      "cell_type": "code",
      "execution_count": null,
      "source": [
        "accuracy = history.history['accuracy']\n",
        "val_accuracy = history.history['val_accuracy']\n",
        "loss = history.history['loss']\n",
        "val_loss = history.history['val_loss']"
      ],
      "outputs": [],
      "metadata": {
        "id": "xBBJ9WlpsMiH"
      }
    },
    {
      "cell_type": "code",
      "execution_count": null,
      "source": [
        "val_accuracy"
      ],
      "outputs": [],
      "metadata": {
        "colab": {
          "base_uri": "https://localhost:8080/",
          "height": 881
        },
        "id": "jGJUnJrZgBOD",
        "outputId": "69519dbe-8fa2-4226-fc5d-d8a71d031233"
      }
    },
    {
      "cell_type": "code",
      "execution_count": null,
      "source": [
        "epochs = range(len(accuracy))\n",
        "plt.plot(epochs, accuracy, 'bo', color = 'r', label='Training Accuracy')\n",
        "plt.plot(epochs, val_accuracy, 'b', label='Validation Accuracy')\n",
        "plt.title('Training and Validation Accuracy')\n",
        "plt.legend();"
      ],
      "outputs": [],
      "metadata": {
        "colab": {
          "base_uri": "https://localhost:8080/",
          "height": 281
        },
        "id": "c8oHEt0OsMf2",
        "outputId": "9a9f593a-ecf6-4497-9917-d55140359220"
      }
    },
    {
      "cell_type": "code",
      "execution_count": null,
      "source": [
        "plt.plot(epochs, loss, 'ro', label='Training loss')\n",
        "plt.plot(epochs, val_loss, 'r', label='Validation loss')\n",
        "plt.title('Training and Validation loss')\n",
        "plt.legend();"
      ],
      "outputs": [],
      "metadata": {
        "colab": {
          "base_uri": "https://localhost:8080/",
          "height": 281
        },
        "id": "liiGj4HdsMa3",
        "outputId": "5cd776db-c737-40fd-ddcd-127929a86492"
      }
    },
    {
      "cell_type": "code",
      "execution_count": null,
      "source": [
        "def classify_prediction(pred): # np.argmax not working properly\r\n",
        "    max = -1\r\n",
        "    max_index = -1\r\n",
        "    for i in range(0, pred.shape[0]):\r\n",
        "        if pred[i] > max:\r\n",
        "            max = pred[i]\r\n",
        "            max_index = i\r\n",
        "    return max_index\r\n",
        "\r\n",
        "def predict_classes(pred):\r\n",
        "    classes = np.empty(shape=(pred.shape[0],))\r\n",
        "    for i in range(0, pred.shape[0]):\r\n",
        "        classes[i] = classify_prediction(pred[i])\r\n",
        "    return np.array(classes, dtype='float32')"
      ],
      "outputs": [],
      "metadata": {
        "id": "RKZxo6khsMYv"
      }
    },
    {
      "cell_type": "code",
      "execution_count": null,
      "source": [
        "predictions = LeNet.predict(X_test_gray_norm)\r\n",
        "pred_classes = predict_classes(predictions)\r\n",
        "y_true = y_test"
      ],
      "outputs": [],
      "metadata": {}
    },
    {
      "cell_type": "code",
      "execution_count": null,
      "source": [
        "from sklearn.metrics import confusion_matrix\r\n",
        "cm = confusion_matrix(y_true, pred_classes)\r\n",
        "plt.figure(figsize = (25, 25))\r\n",
        "sns.heatmap(cm, annot = True);"
      ],
      "outputs": [],
      "metadata": {
        "colab": {
          "base_uri": "https://localhost:8080/",
          "height": 1000
        },
        "id": "3knUnry5sMWd",
        "outputId": "d8fcc52e-fc54-4704-b5e2-851ee3fae01b"
      }
    },
    {
      "cell_type": "code",
      "execution_count": null,
      "source": [
        "L = 7\r\n",
        "W = 7\r\n",
        "\r\n",
        "fig, axes = plt.subplots(L, W, figsize = (12, 12))\r\n",
        "axes = axes.ravel()\r\n",
        "\r\n",
        "for i in np.arange(0, L*W):\r\n",
        "    axes[i].imshow(X_test[i])\r\n",
        "    axes[i].set_title('Prediction = {}\\n True = {}'.format(int(pred_classes[i]), y_true[i]), fontsize = 8)\r\n",
        "    axes[i].axis('off')\r\n",
        "\r\n",
        "plt.subplots_adjust(wspace = 1)    "
      ],
      "outputs": [],
      "metadata": {
        "colab": {
          "base_uri": "https://localhost:8080/",
          "height": 686
        },
        "id": "3WLTbXkysVdv",
        "outputId": "0be747cf-3fbe-4316-8e63-8c0c4f787877"
      }
    },
    {
      "cell_type": "code",
      "execution_count": null,
      "source": [
        "from sklearn.metrics import classification_report\r\n",
        "num_classes = 43\r\n",
        "target_names = [\"Class {}\".format(int(i)) for i in range(num_classes)]\r\n",
        "print(classification_report(y_test, pred_classes, target_names=target_names))"
      ],
      "outputs": [],
      "metadata": {}
    }
  ],
  "metadata": {
    "accelerator": "GPU",
    "colab": {
      "collapsed_sections": [],
      "name": "Projeto #8: Classificação de sinais de trânsito.ipynb",
      "provenance": []
    },
    "kernelspec": {
      "display_name": "Python 3",
      "language": "python",
      "name": "python3"
    },
    "language_info": {
      "name": "python",
      "version": "3.8.10",
      "mimetype": "text/x-python",
      "codemirror_mode": {
        "name": "ipython",
        "version": 3
      },
      "pygments_lexer": "ipython3",
      "nbconvert_exporter": "python",
      "file_extension": ".py"
    }
  },
  "nbformat": 4,
  "nbformat_minor": 2
}